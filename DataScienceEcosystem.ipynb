{
 "cells": [
  {
   "cell_type": "markdown",
   "id": "571510de",
   "metadata": {},
   "source": [
    "# Data Science Tools and Ecosystem"
   ]
  },
  {
   "cell_type": "markdown",
   "id": "66eee8e8",
   "metadata": {},
   "source": [
    "In this notebook, Data Science Tools and Ecosystem are summarized."
   ]
  },
  {
   "cell_type": "markdown",
   "id": "fdf6b394",
   "metadata": {},
   "source": [
    "__Objectives :__\n",
    "\n",
    "    . List popular languages for Data Science\n",
    "    . List commonly libraraies used for Data science  \n",
    "    . List Some Arithmetic Expressions used in python"
   ]
  },
  {
   "cell_type": "markdown",
   "id": "d512f65d",
   "metadata": {},
   "source": [
    "Some of the popular languages that Data Scientists use are:\n",
    "    \n",
    "    1- R\n",
    "    2- Python\n",
    "    3- Julia"
   ]
  },
  {
   "cell_type": "markdown",
   "id": "58fc9433",
   "metadata": {},
   "source": [
    "Some of the commonly used libraries used by Data Scientists include:\n",
    "    \n",
    "    1- Numpy\n",
    "    2- Pands\n",
    "    3- Tenserflow\n",
    "    4- Matplotlib\n",
    "    5- Scipy"
   ]
  },
  {
   "cell_type": "markdown",
   "id": "9e92d01f",
   "metadata": {},
   "source": [
    "|Data Science Tools|  \n",
    "|------------------|\n",
    "|Jupyter Notebook  |\n",
    "|Tableau           |\n",
    "|Apache Spark      |\n",
    "|MATLAP            |    "
   ]
  },
  {
   "cell_type": "markdown",
   "id": "9f4763f6",
   "metadata": {},
   "source": [
    "### Below are a few examples of evaluating arithmetic expressions in Python\n",
    "\n"
   ]
  },
  {
   "cell_type": "code",
   "execution_count": 1,
   "id": "9bb617ad",
   "metadata": {},
   "outputs": [
    {
     "data": {
      "text/plain": [
       "17"
      ]
     },
     "execution_count": 1,
     "metadata": {},
     "output_type": "execute_result"
    }
   ],
   "source": [
    "#This a simple arithmetic expression to mutiply then add integers\n",
    "(3*4)+5"
   ]
  },
  {
   "cell_type": "code",
   "execution_count": 2,
   "id": "2bf7cd8f",
   "metadata": {},
   "outputs": [
    {
     "data": {
      "text/plain": [
       "3.3333333333333335"
      ]
     },
     "execution_count": 2,
     "metadata": {},
     "output_type": "execute_result"
    }
   ],
   "source": [
    "# This will convert 200 minutes to hours by diving by 60\n",
    "200/60"
   ]
  },
  {
   "cell_type": "markdown",
   "id": "f427cbf7",
   "metadata": {},
   "source": [
    "## Author\n",
    " Abdallah "
   ]
  },
  {
   "cell_type": "code",
   "execution_count": null,
   "id": "701d666e",
   "metadata": {},
   "outputs": [],
   "source": []
  }
 ],
 "metadata": {
  "kernelspec": {
   "display_name": "Python 3 (ipykernel)",
   "language": "python",
   "name": "python3"
  },
  "language_info": {
   "codemirror_mode": {
    "name": "ipython",
    "version": 3
   },
   "file_extension": ".py",
   "mimetype": "text/x-python",
   "name": "python",
   "nbconvert_exporter": "python",
   "pygments_lexer": "ipython3",
   "version": "3.10.9"
  }
 },
 "nbformat": 4,
 "nbformat_minor": 5
}
